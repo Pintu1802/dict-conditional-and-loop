{
 "cells": [
  {
   "cell_type": "code",
   "execution_count": 1,
   "id": "a4e6d9a3-3a22-4445-9317-0a473bc8f07b",
   "metadata": {},
   "outputs": [],
   "source": [
    "d={}"
   ]
  },
  {
   "cell_type": "code",
   "execution_count": 2,
   "id": "4ce6767a-47e8-4d77-98a3-2eedf076f3b5",
   "metadata": {},
   "outputs": [
    {
     "data": {
      "text/plain": [
       "dict"
      ]
     },
     "execution_count": 2,
     "metadata": {},
     "output_type": "execute_result"
    }
   ],
   "source": [
    "type(d)"
   ]
  },
  {
   "cell_type": "code",
   "execution_count": 3,
   "id": "3732f952-053a-49bd-8457-862d73f58f83",
   "metadata": {},
   "outputs": [],
   "source": [
    "d1={'key',\"pintu\"}"
   ]
  },
  {
   "cell_type": "code",
   "execution_count": 4,
   "id": "4c5cb865-c364-48ea-972e-3eda17444a40",
   "metadata": {},
   "outputs": [
    {
     "data": {
      "text/plain": [
       "{'key', 'pintu'}"
      ]
     },
     "execution_count": 4,
     "metadata": {},
     "output_type": "execute_result"
    }
   ],
   "source": [
    "d1"
   ]
  },
  {
   "cell_type": "code",
   "execution_count": 5,
   "id": "066c5145-ea7b-478c-806d-8f1b34bd51a4",
   "metadata": {},
   "outputs": [],
   "source": [
    "d2={\"name\":\"pintu\",\"email\":\"pintu@.com\",\"number\":9798753513}"
   ]
  },
  {
   "cell_type": "code",
   "execution_count": 6,
   "id": "644b83e9-5dcf-4894-9a0e-0700b224dcda",
   "metadata": {},
   "outputs": [
    {
     "data": {
      "text/plain": [
       "{'name': 'pintu', 'email': 'pintu@.com', 'number': 9798753513}"
      ]
     },
     "execution_count": 6,
     "metadata": {},
     "output_type": "execute_result"
    }
   ],
   "source": [
    "d2"
   ]
  },
  {
   "cell_type": "code",
   "execution_count": 7,
   "id": "21ff08fd-50dc-4ecb-b63e-9b461aa4d7aa",
   "metadata": {},
   "outputs": [],
   "source": [
    "d3 ={234:\"pintu\",'_wer':'kumar',True:23456}"
   ]
  },
  {
   "cell_type": "code",
   "execution_count": 8,
   "id": "ba7cc8a3-41ac-48e2-99d8-eb874ae06199",
   "metadata": {},
   "outputs": [
    {
     "data": {
      "text/plain": [
       "{234: 'pintu', '_wer': 'kumar', True: 23456}"
      ]
     },
     "execution_count": 8,
     "metadata": {},
     "output_type": "execute_result"
    }
   ],
   "source": [
    "d3"
   ]
  },
  {
   "cell_type": "code",
   "execution_count": 9,
   "id": "8e58196b-4c65-4dba-a116-e753c632cd7b",
   "metadata": {},
   "outputs": [
    {
     "data": {
      "text/plain": [
       "'pintu'"
      ]
     },
     "execution_count": 9,
     "metadata": {},
     "output_type": "execute_result"
    }
   ],
   "source": [
    "d3[234]"
   ]
  },
  {
   "cell_type": "code",
   "execution_count": 10,
   "id": "88a14313-15ee-4200-b979-04ba0a0d12e6",
   "metadata": {},
   "outputs": [
    {
     "data": {
      "text/plain": [
       "23456"
      ]
     },
     "execution_count": 10,
     "metadata": {},
     "output_type": "execute_result"
    }
   ],
   "source": [
    "d3[True]"
   ]
  },
  {
   "cell_type": "code",
   "execution_count": 11,
   "id": "e3fe8ba0-fcb6-43ff-b903-290ad2334ac5",
   "metadata": {},
   "outputs": [
    {
     "data": {
      "text/plain": [
       "23456"
      ]
     },
     "execution_count": 11,
     "metadata": {},
     "output_type": "execute_result"
    }
   ],
   "source": [
    "\n",
    "d3[1]"
   ]
  },
  {
   "cell_type": "code",
   "execution_count": 12,
   "id": "590ae52f-6294-482c-9b3f-b20a2d06c44a",
   "metadata": {},
   "outputs": [],
   "source": [
    "d4={'name':\"pin\",'mail_id':\"ss@gail.com\",\"name\":\"pintu\"}"
   ]
  },
  {
   "cell_type": "code",
   "execution_count": 13,
   "id": "2b419a2f-6af8-412e-9b0a-df06e9d848e6",
   "metadata": {},
   "outputs": [
    {
     "data": {
      "text/plain": [
       "'pintu'"
      ]
     },
     "execution_count": 13,
     "metadata": {},
     "output_type": "execute_result"
    }
   ],
   "source": [
    "\n",
    "d4['name']"
   ]
  },
  {
   "cell_type": "code",
   "execution_count": 14,
   "id": "45e2e877-5e84-4049-851f-62e24bf710a4",
   "metadata": {},
   "outputs": [],
   "source": [
    "d5={\"company\":\"pwskills\",\"course\":[\"web dev\", \"data science\" , \"java with Dsa system design\"]}"
   ]
  },
  {
   "cell_type": "code",
   "execution_count": 15,
   "id": "1df9bda7-1c2c-4f32-a7aa-a0ca3630ba14",
   "metadata": {},
   "outputs": [
    {
     "data": {
      "text/plain": [
       "{'company': 'pwskills',\n",
       " 'course': ['web dev', 'data science', 'java with Dsa system design']}"
      ]
     },
     "execution_count": 15,
     "metadata": {},
     "output_type": "execute_result"
    }
   ],
   "source": [
    "d5"
   ]
  },
  {
   "cell_type": "code",
   "execution_count": 16,
   "id": "51819f6b-8eda-42cf-865b-afe95dcde942",
   "metadata": {},
   "outputs": [
    {
     "data": {
      "text/plain": [
       "['web dev', 'data science', 'java with Dsa system design']"
      ]
     },
     "execution_count": 16,
     "metadata": {},
     "output_type": "execute_result"
    }
   ],
   "source": [
    "d5[\"course\"]"
   ]
  },
  {
   "cell_type": "raw",
   "id": "7d3ff5f8-e30e-4008-b36c-bdd664c89108",
   "metadata": {},
   "source": [
    "d6={}"
   ]
  },
  {
   "cell_type": "code",
   "execution_count": 17,
   "id": "6dd0cb1c-3d47-4703-8ba4-e21bd31cb522",
   "metadata": {},
   "outputs": [
    {
     "data": {
      "text/plain": [
       "'java with Dsa system design'"
      ]
     },
     "execution_count": 17,
     "metadata": {},
     "output_type": "execute_result"
    }
   ],
   "source": [
    "d5[\"course\"][2]"
   ]
  },
  {
   "cell_type": "code",
   "execution_count": 18,
   "id": "4f33aecc-5c81-4693-8947-5b38af2a1aec",
   "metadata": {},
   "outputs": [],
   "source": [
    "d6= {\"number\" :[2,34,3,34,34] ,\"assingment\":(1,2,3,4,5,6) , \"launch_date\":{8,12,14} , \"class_time\":{\"ws_dev\": 8 , \"Data science masters \": 8, \"java with dsa and system desing\":7}}"
   ]
  },
  {
   "cell_type": "code",
   "execution_count": 19,
   "id": "95904bda-14c0-4f48-9bf2-553d51fd8a82",
   "metadata": {},
   "outputs": [
    {
     "data": {
      "text/plain": [
       "{'ws_dev': 8, 'Data science masters ': 8, 'java with dsa and system desing': 7}"
      ]
     },
     "execution_count": 19,
     "metadata": {},
     "output_type": "execute_result"
    }
   ],
   "source": [
    "d6[\"class_time\"]"
   ]
  },
  {
   "cell_type": "code",
   "execution_count": 20,
   "id": "910bce31-65f0-41f3-976c-30210c13e088",
   "metadata": {},
   "outputs": [
    {
     "data": {
      "text/plain": [
       "{'number': [2, 34, 3, 34, 34],\n",
       " 'assingment': (1, 2, 3, 4, 5, 6),\n",
       " 'launch_date': {8, 12, 14},\n",
       " 'class_time': {'ws_dev': 8,\n",
       "  'Data science masters ': 8,\n",
       "  'java with dsa and system desing': 7}}"
      ]
     },
     "execution_count": 20,
     "metadata": {},
     "output_type": "execute_result"
    }
   ],
   "source": [
    "\n",
    "d6"
   ]
  },
  {
   "cell_type": "code",
   "execution_count": 21,
   "id": "f599098b-8a3d-4008-9b1c-b600f2486a9e",
   "metadata": {},
   "outputs": [
    {
     "data": {
      "text/plain": [
       "7"
      ]
     },
     "execution_count": 21,
     "metadata": {},
     "output_type": "execute_result"
    }
   ],
   "source": [
    "d6[\"class_time\"][\"java with dsa and system desing\"]"
   ]
  },
  {
   "cell_type": "code",
   "execution_count": 22,
   "id": "87f4c3c7-af10-40e5-b85c-625d65f430cf",
   "metadata": {},
   "outputs": [],
   "source": [
    "d6['mentor'] = [\"sudhanshu\", \"krish\",\"anurag\",\"hayder\"]"
   ]
  },
  {
   "cell_type": "code",
   "execution_count": 23,
   "id": "e9045ce9-8eff-493f-9cba-b4055f6db4e7",
   "metadata": {},
   "outputs": [
    {
     "data": {
      "text/plain": [
       "{'number': [2, 34, 3, 34, 34],\n",
       " 'assingment': (1, 2, 3, 4, 5, 6),\n",
       " 'launch_date': {8, 12, 14},\n",
       " 'class_time': {'ws_dev': 8,\n",
       "  'Data science masters ': 8,\n",
       "  'java with dsa and system desing': 7},\n",
       " 'mentor': ['sudhanshu', 'krish', 'anurag', 'hayder']}"
      ]
     },
     "execution_count": 23,
     "metadata": {},
     "output_type": "execute_result"
    }
   ],
   "source": [
    "d6"
   ]
  },
  {
   "cell_type": "code",
   "execution_count": 24,
   "id": "d32a8743-51cc-4999-abdb-c0f608cca9ec",
   "metadata": {},
   "outputs": [],
   "source": [
    "del d6 ['number']"
   ]
  },
  {
   "cell_type": "code",
   "execution_count": 25,
   "id": "bc3b7740-2abb-4c99-8a8e-639bd4906e6f",
   "metadata": {},
   "outputs": [
    {
     "data": {
      "text/plain": [
       "{'assingment': (1, 2, 3, 4, 5, 6),\n",
       " 'launch_date': {8, 12, 14},\n",
       " 'class_time': {'ws_dev': 8,\n",
       "  'Data science masters ': 8,\n",
       "  'java with dsa and system desing': 7},\n",
       " 'mentor': ['sudhanshu', 'krish', 'anurag', 'hayder']}"
      ]
     },
     "execution_count": 25,
     "metadata": {},
     "output_type": "execute_result"
    }
   ],
   "source": [
    "d6"
   ]
  },
  {
   "cell_type": "code",
   "execution_count": 26,
   "id": "c21ee633-acdb-42b9-93fc-c0d94335f431",
   "metadata": {},
   "outputs": [
    {
     "data": {
      "text/plain": [
       "dict_keys(['assingment', 'launch_date', 'class_time', 'mentor'])"
      ]
     },
     "execution_count": 26,
     "metadata": {},
     "output_type": "execute_result"
    }
   ],
   "source": [
    "d6.keys()"
   ]
  },
  {
   "cell_type": "code",
   "execution_count": 27,
   "id": "4ba36067-cd19-48f9-aee2-5d178c1bbcc1",
   "metadata": {},
   "outputs": [
    {
     "data": {
      "text/plain": [
       "['assingment', 'launch_date', 'class_time', 'mentor']"
      ]
     },
     "execution_count": 27,
     "metadata": {},
     "output_type": "execute_result"
    }
   ],
   "source": [
    "list(d6.keys())"
   ]
  },
  {
   "cell_type": "code",
   "execution_count": 28,
   "id": "27dfdb56-5bca-4d65-a2e1-476bf18c8581",
   "metadata": {},
   "outputs": [
    {
     "data": {
      "text/plain": [
       "[(1, 2, 3, 4, 5, 6),\n",
       " {8, 12, 14},\n",
       " {'ws_dev': 8,\n",
       "  'Data science masters ': 8,\n",
       "  'java with dsa and system desing': 7},\n",
       " ['sudhanshu', 'krish', 'anurag', 'hayder']]"
      ]
     },
     "execution_count": 28,
     "metadata": {},
     "output_type": "execute_result"
    }
   ],
   "source": [
    "list(d6.values())"
   ]
  },
  {
   "cell_type": "code",
   "execution_count": 29,
   "id": "4f03b999-5fb6-43ed-a1b1-24f02aef01b7",
   "metadata": {},
   "outputs": [
    {
     "data": {
      "text/plain": [
       "dict_items([('assingment', (1, 2, 3, 4, 5, 6)), ('launch_date', {8, 12, 14}), ('class_time', {'ws_dev': 8, 'Data science masters ': 8, 'java with dsa and system desing': 7}), ('mentor', ['sudhanshu', 'krish', 'anurag', 'hayder'])])"
      ]
     },
     "execution_count": 29,
     "metadata": {},
     "output_type": "execute_result"
    }
   ],
   "source": [
    "d6.items()"
   ]
  },
  {
   "cell_type": "code",
   "execution_count": 30,
   "id": "f8fbe29e-3117-46bd-b003-183bc62fe08c",
   "metadata": {},
   "outputs": [
    {
     "data": {
      "text/plain": [
       "(1, 2, 3, 4, 5, 6)"
      ]
     },
     "execution_count": 30,
     "metadata": {},
     "output_type": "execute_result"
    }
   ],
   "source": [
    "d6.pop('assingment')"
   ]
  },
  {
   "cell_type": "code",
   "execution_count": 31,
   "id": "4fc6abf6-03e7-406d-96eb-c18cd98f8838",
   "metadata": {},
   "outputs": [
    {
     "ename": "TypeError",
     "evalue": "pop expected at least 1 argument, got 0",
     "output_type": "error",
     "traceback": [
      "\u001b[0;31m---------------------------------------------------------------------------\u001b[0m",
      "\u001b[0;31mTypeError\u001b[0m                                 Traceback (most recent call last)",
      "Cell \u001b[0;32mIn[31], line 1\u001b[0m\n\u001b[0;32m----> 1\u001b[0m \u001b[43md6\u001b[49m\u001b[38;5;241;43m.\u001b[39;49m\u001b[43mpop\u001b[49m\u001b[43m(\u001b[49m\u001b[43m)\u001b[49m\n",
      "\u001b[0;31mTypeError\u001b[0m: pop expected at least 1 argument, got 0"
     ]
    }
   ],
   "source": [
    "d6.pop()"
   ]
  },
  {
   "cell_type": "code",
   "execution_count": 32,
   "id": "c8808133-1ed3-471a-825d-95ece0d1dd45",
   "metadata": {},
   "outputs": [
    {
     "name": "stdin",
     "output_type": "stream",
     "text": [
      "Enter your marks  56\n"
     ]
    },
    {
     "name": "stdout",
     "output_type": "stream",
     "text": [
      "you will be a part of A2 batch\n"
     ]
    }
   ],
   "source": [
    "marks =int(input(\"Enter your marks \"))\n",
    "if marks >= 80 :\n",
    "    print(\"you will be a part of A0 batch\")\n",
    "elif marks >= 60 and marks <80:\n",
    "    print(\"you will be a part of A1 batch\")\n",
    "elif marks >= 40 and marks <60:\n",
    "    print(\"you will be a part of A2 batch\")\n",
    "elif marks >=20 and marks <40:\n",
    "    print(\"you will be a part of A3 batch\")\n",
    "else:\n",
    "    print(\"you will be a part of A4 batch\")\n"
   ]
  },
  {
   "cell_type": "code",
   "execution_count": 33,
   "id": "186026d2-8db8-4792-83ae-7c3fe53e343a",
   "metadata": {},
   "outputs": [
    {
     "data": {
      "text/plain": [
       "56"
      ]
     },
     "execution_count": 33,
     "metadata": {},
     "output_type": "execute_result"
    }
   ],
   "source": [
    "marks"
   ]
  },
  {
   "cell_type": "code",
   "execution_count": 34,
   "id": "2fe19204-33e3-4c65-9d79-b3d6aad6e3f1",
   "metadata": {},
   "outputs": [
    {
     "data": {
      "text/plain": [
       "int"
      ]
     },
     "execution_count": 34,
     "metadata": {},
     "output_type": "execute_result"
    }
   ],
   "source": [
    "type(marks)"
   ]
  },
  {
   "cell_type": "code",
   "execution_count": 7,
   "id": "904289ec-084f-4609-9e5f-c9105c6706e6",
   "metadata": {},
   "outputs": [
    {
     "name": "stdin",
     "output_type": "stream",
     "text": [
      " Enter price: 5000\n"
     ]
    },
    {
     "name": "stdout",
     "output_type": "stream",
     "text": [
      " i will not purchase\n"
     ]
    }
   ],
   "source": [
    "price=int(input(\" Enter price:\"))\n",
    "if price > 1000:\n",
    "    print(\" i will not purchase\")\n",
    "else:\n",
    "    print(\"i will purchase\")\n",
    "\n",
    "          "
   ]
  },
  {
   "cell_type": "code",
   "execution_count": 3,
   "id": "7324b494-bd20-4571-9c33-83f7ff67cdb3",
   "metadata": {},
   "outputs": [
    {
     "name": "stdin",
     "output_type": "stream",
     "text": [
      " Enter price: 300\n"
     ]
    }
   ],
   "source": [
    "price=int(input(\" Enter price:\"))\n",
    "if price > 1000:\n",
    "    print(\" i will not purchase\")\n",
    "\n",
    "\n",
    "          "
   ]
  },
  {
   "cell_type": "code",
   "execution_count": 22,
   "id": "9d747b34-fe97-4a68-9574-29133c7064d3",
   "metadata": {},
   "outputs": [],
   "source": [
    "l = [1,2,3,4,5,6,7,8]"
   ]
  },
  {
   "cell_type": "code",
   "execution_count": 23,
   "id": "e44cdc3f-127b-4cd2-8964-2739bc30f538",
   "metadata": {},
   "outputs": [
    {
     "data": {
      "text/plain": [
       "2"
      ]
     },
     "execution_count": 23,
     "metadata": {},
     "output_type": "execute_result"
    }
   ],
   "source": [
    "l [0] +1"
   ]
  },
  {
   "cell_type": "code",
   "execution_count": 30,
   "id": "8e929ed0-8c31-4e1b-a9d6-242a8f69b315",
   "metadata": {},
   "outputs": [],
   "source": [
    "l1 = []"
   ]
  },
  {
   "cell_type": "code",
   "execution_count": 31,
   "id": "c613ce1f-0b92-4b6a-ab66-b65c14ec262a",
   "metadata": {},
   "outputs": [],
   "source": [
    "l1.append(l[0]+1)"
   ]
  },
  {
   "cell_type": "code",
   "execution_count": 32,
   "id": "0dc8a3cb-6d42-41b3-9d21-32ba36bd423a",
   "metadata": {},
   "outputs": [
    {
     "data": {
      "text/plain": [
       "[2]"
      ]
     },
     "execution_count": 32,
     "metadata": {},
     "output_type": "execute_result"
    }
   ],
   "source": [
    "l1"
   ]
  },
  {
   "cell_type": "code",
   "execution_count": 34,
   "id": "0e65b769-a90a-44d5-b36e-27846d094505",
   "metadata": {},
   "outputs": [
    {
     "data": {
      "text/plain": [
       "[1, 2, 3, 4, 5, 6, 7, 8]"
      ]
     },
     "execution_count": 34,
     "metadata": {},
     "output_type": "execute_result"
    }
   ],
   "source": [
    "l"
   ]
  },
  {
   "cell_type": "code",
   "execution_count": 35,
   "id": "ddc3f8c0-2338-49fb-8a47-42ca6c634d98",
   "metadata": {},
   "outputs": [],
   "source": [
    "l = [1,2,3,4,5,6,7,8]"
   ]
  },
  {
   "cell_type": "code",
   "execution_count": 42,
   "id": "a76fac2b-da20-4e1b-a9c1-7616b49d4986",
   "metadata": {},
   "outputs": [
    {
     "name": "stdout",
     "output_type": "stream",
     "text": [
      "2\n",
      "3\n",
      "4\n",
      "5\n",
      "6\n",
      "7\n",
      "8\n",
      "9\n"
     ]
    },
    {
     "data": {
      "text/plain": [
       "[1, 2, 3, 4, 5, 6, 7, 8]"
      ]
     },
     "execution_count": 42,
     "metadata": {},
     "output_type": "execute_result"
    }
   ],
   "source": [
    "l1 = []\n",
    "for i in l :\n",
    "    print(i+1)\n",
    "    l1.append(i+1)\n",
    "l"
   ]
  },
  {
   "cell_type": "code",
   "execution_count": 2,
   "id": "3fa5334a-edf0-49c2-81a8-5813df78769d",
   "metadata": {},
   "outputs": [],
   "source": [
    "l = [\"subh\", \"kumar\", \"pwskills\" , \"course\"]"
   ]
  },
  {
   "cell_type": "code",
   "execution_count": 3,
   "id": "6cecb84d-768d-416b-98e2-f897aa679a39",
   "metadata": {},
   "outputs": [
    {
     "name": "stdout",
     "output_type": "stream",
     "text": [
      "subh\n",
      "kumar\n",
      "pwskills\n",
      "course\n"
     ]
    }
   ],
   "source": [
    "l1 = []\n",
    "for i in l :\n",
    "    print(i)\n",
    "    l1.append(i.upper())"
   ]
  },
  {
   "cell_type": "code",
   "execution_count": 4,
   "id": "c5af53c0-18c8-4d0d-8143-d8d5fe551766",
   "metadata": {},
   "outputs": [
    {
     "data": {
      "text/plain": [
       "['SUBH', 'KUMAR', 'PWSKILLS', 'COURSE']"
      ]
     },
     "execution_count": 4,
     "metadata": {},
     "output_type": "execute_result"
    }
   ],
   "source": [
    "l1"
   ]
  },
  {
   "cell_type": "code",
   "execution_count": 5,
   "id": "ea57ecc6-3676-4267-9d9d-191a45ffd106",
   "metadata": {},
   "outputs": [],
   "source": [
    "l = [\"subh\", \"kumar\", \"pwskills\" , \"course\"]"
   ]
  },
  {
   "cell_type": "code",
   "execution_count": 6,
   "id": "8701eb69-d784-4539-b0e3-7d80670507e3",
   "metadata": {},
   "outputs": [
    {
     "name": "stdout",
     "output_type": "stream",
     "text": [
      "subh\n",
      "kumar\n",
      "pwskills\n",
      "course\n"
     ]
    }
   ],
   "source": [
    "l1 = []\n",
    "for i in l :\n",
    "    print(i)\n",
    "    l1.append(i.lower())\n",
    "    "
   ]
  },
  {
   "cell_type": "code",
   "execution_count": 7,
   "id": "60a28dc4-8b3e-4335-9abf-56b5a5078894",
   "metadata": {},
   "outputs": [
    {
     "data": {
      "text/plain": [
       "['subh', 'kumar', 'pwskills', 'course']"
      ]
     },
     "execution_count": 7,
     "metadata": {},
     "output_type": "execute_result"
    }
   ],
   "source": [
    "l1"
   ]
  },
  {
   "cell_type": "code",
   "execution_count": 4,
   "id": "c80a832a-6f86-4c94-bbb9-c1fe0c20da77",
   "metadata": {},
   "outputs": [],
   "source": [
    "l = [1,2,3,4,4, \"subh\" , \"kumar\" , 324,34.456,\"abc\"]"
   ]
  },
  {
   "cell_type": "code",
   "execution_count": 9,
   "id": "54b2f58b-1ce3-48cf-bb1e-83838c933f14",
   "metadata": {},
   "outputs": [],
   "source": [
    "l1_num =[]\n",
    "l2_str =[]\n",
    "for i in l :\n",
    "    if type(i) == int or type(i)== float :\n",
    "        l1_num.append(i)\n",
    "    else:\n",
    "        l2_str.append(i)\n"
   ]
  },
  {
   "cell_type": "code",
   "execution_count": 10,
   "id": "a073bc1a-cea3-45ec-816f-659b0b1ade91",
   "metadata": {},
   "outputs": [
    {
     "data": {
      "text/plain": [
       "[1, 2, 3, 4, 4, 324, 34.456]"
      ]
     },
     "execution_count": 10,
     "metadata": {},
     "output_type": "execute_result"
    }
   ],
   "source": [
    "l1_num"
   ]
  },
  {
   "cell_type": "code",
   "execution_count": 11,
   "id": "557886b2-85ca-444c-b7c2-458f9cfa2763",
   "metadata": {},
   "outputs": [
    {
     "data": {
      "text/plain": [
       "['subh', 'kumar', 'abc']"
      ]
     },
     "execution_count": 11,
     "metadata": {},
     "output_type": "execute_result"
    }
   ],
   "source": [
    "l2_str"
   ]
  },
  {
   "cell_type": "code",
   "execution_count": null,
   "id": "2f143f85-0ae0-446d-bc27-95dc954f90f6",
   "metadata": {},
   "outputs": [],
   "source": []
  }
 ],
 "metadata": {
  "kernelspec": {
   "display_name": "Python 3 (ipykernel)",
   "language": "python",
   "name": "python3"
  },
  "language_info": {
   "codemirror_mode": {
    "name": "ipython",
    "version": 3
   },
   "file_extension": ".py",
   "mimetype": "text/x-python",
   "name": "python",
   "nbconvert_exporter": "python",
   "pygments_lexer": "ipython3",
   "version": "3.10.8"
  }
 },
 "nbformat": 4,
 "nbformat_minor": 5
}
